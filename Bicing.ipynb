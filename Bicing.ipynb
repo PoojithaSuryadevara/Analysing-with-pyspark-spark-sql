{
 "cells": [
  {
   "cell_type": "code",
   "execution_count": 3,
   "metadata": {},
   "outputs": [],
   "source": [
    "import pyspark\n",
    "\n",
    "from pyspark.sql import SparkSession\n",
    "from pyspark import SparkContext,SparkConf\n",
    "sc = SparkContext.getOrCreate(SparkConf())\n",
    "\n",
    "from pyspark.sql import SQLContext\n",
    "\n",
    "sqlcontext = SQLContext(sc)"
   ]
  },
  {
   "cell_type": "code",
   "execution_count": 4,
   "metadata": {},
   "outputs": [
    {
     "data": {
      "text/plain": [
       "465"
      ]
     },
     "execution_count": 4,
     "metadata": {},
     "output_type": "execute_result"
    }
   ],
   "source": [
    "bicing= sqlcontext.read.json(r\"C:\\Users\\Poojitha\\Desktop\\protofolio\\bicing.json\")\n",
    "\n",
    "#Count number of rows\n",
    "bicing.count()"
   ]
  },
  {
   "cell_type": "code",
   "execution_count": 5,
   "metadata": {
    "scrolled": true
   },
   "outputs": [
    {
     "name": "stdout",
     "output_type": "stream",
     "text": [
      "root\n",
      " |-- altitude: string (nullable = true)\n",
      " |-- bikes: string (nullable = true)\n",
      " |-- id: string (nullable = true)\n",
      " |-- latitude: string (nullable = true)\n",
      " |-- longitude: string (nullable = true)\n",
      " |-- nearbyStations: string (nullable = true)\n",
      " |-- slots: string (nullable = true)\n",
      " |-- status: string (nullable = true)\n",
      " |-- streetName: string (nullable = true)\n",
      " |-- streetNumber: string (nullable = true)\n",
      " |-- type: string (nullable = true)\n",
      "\n"
     ]
    }
   ],
   "source": [
    "bicing.printSchema()"
   ]
  },
  {
   "cell_type": "code",
   "execution_count": 39,
   "metadata": {},
   "outputs": [
    {
     "name": "stdout",
     "output_type": "stream",
     "text": [
      "+--------+-----+---+---------+---------+------------------+-----+------+--------------------+------------+----+\n",
      "|altitude|bikes| id| latitude|longitude|    nearbyStations|slots|status|          streetName|streetNumber|type|\n",
      "+--------+-----+---+---------+---------+------------------+-----+------+--------------------+------------+----+\n",
      "|      21|    1|  1|41.397952| 2.180042| 24, 369, 387, 426|   21|   OPN|Gran Via Corts Ca...|         760|BIKE|\n",
      "|      21|    2|  2| 41.39553|  2.17706|360, 368, 387, 414|   24|   OPN|Roger de Flor/ Gr...|         126|BIKE|\n",
      "|      21|   15|  3|41.393699| 2.181137|    4, 6, 119, 419|   10|   OPN|             Ali Bei|          44|BIKE|\n",
      "|      21|    9|  4| 41.39347|  2.18149|    3, 5, 359, 419|   10|   OPN|               Ribes|          13|BIKE|\n",
      "|      16|    2|  5|41.391075| 2.180223|    6, 7, 359, 418|   36|   OPN|   Pg Lluís Companys|          11|BIKE|\n",
      "|      16|    7|  6|41.391349|  2.18061|    5, 8, 359, 419|   31|   OPN|   Pg Lluís Companys|          18|BIKE|\n",
      "|      16|    4|  7|41.388856| 2.183251|   8, 10, 118, 389|   20|   OPN|   Pg Lluís Companys|           1|BIKE|\n",
      "|      11|    2|  8|41.389088| 2.183568|   6, 10, 118, 389|   25|   OPN|   Pg Lluís Companys|           2|BIKE|\n",
      "|      11|    4|  9|41.385031| 2.185249|  10, 14, 115, 389|   13|   OPN|Marquès de l'Arge...|          17|BIKE|\n",
      "|      11|    2| 10| 41.38498|  2.18417|   9, 14, 115, 389|   28|   OPN|       Carrer Comerç|          27|BIKE|\n",
      "|       1|   17| 11|41.381689| 2.193914|116, 124, 125, 396|    4|   OPN|            Trelawny|           2|BIKE|\n",
      "|       0|   29| 12|41.384538| 2.195679|  11, 13, 116, 396|    1|   OPN|Pg Marítim Barcel...|          23|BIKE|\n",
      "|       1|   30| 13|41.386861| 2.195761|    11, 12, 46, 69|    3|   OPN|    Avinguda Litoral|          16|BIKE|\n",
      "|      11|    2| 14|41.384825| 2.185074|   9, 10, 115, 389|   19|   OPN|Avinguda del Marq...|          19|BIKE|\n",
      "|      42|    3| 15| 41.39515|  2.17076|  23, 25, 362, 413|   16|   OPN|              Girona|          74|BIKE|\n",
      "|      18|    3| 16| 41.39827| 2.186708|   17, 44, 48, 372|   18|   OPN|       Av. Meridiana|          47|BIKE|\n",
      "|      18|    3| 17|41.398237| 2.186711|  16, 48, 211, 372|   18|   OPN|       Av. Meridiana|          47|BIKE|\n",
      "|      49|   22| 18|41.405881|  2.17414|  19, 28, 120, 370|   10|   OPN|            Rosselló|         412|BIKE|\n",
      "|      49|   10| 19|41.403282| 2.170726|   18, 22, 29, 370|   18|   OPN|            Rosselló|         354|BIKE|\n",
      "|      59|    6| 20|41.409758|  2.17462|  21, 28, 164, 278|   13|   OPN|           Indústria|         157|BIKE|\n",
      "+--------+-----+---+---------+---------+------------------+-----+------+--------------------+------------+----+\n",
      "only showing top 20 rows\n",
      "\n"
     ]
    }
   ],
   "source": [
    "bicing.show(20)"
   ]
  },
  {
   "cell_type": "code",
   "execution_count": 7,
   "metadata": {},
   "outputs": [
    {
     "name": "stdout",
     "output_type": "stream",
     "text": [
      "+---+-----+-----+\n",
      "| id|bikes|slots|\n",
      "+---+-----+-----+\n",
      "|  1|    1|   21|\n",
      "|  2|    2|   24|\n",
      "|  3|   15|   10|\n",
      "|  4|    9|   10|\n",
      "|  5|    2|   36|\n",
      "|  6|    7|   31|\n",
      "|  7|    4|   20|\n",
      "|  8|    2|   25|\n",
      "|  9|    4|   13|\n",
      "| 10|    2|   28|\n",
      "| 11|   17|    4|\n",
      "| 12|   29|    1|\n",
      "| 13|   30|    3|\n",
      "| 14|    2|   19|\n",
      "| 15|    3|   16|\n",
      "| 16|    3|   18|\n",
      "| 17|    3|   18|\n",
      "| 18|   22|   10|\n",
      "| 19|   10|   18|\n",
      "| 20|    6|   13|\n",
      "+---+-----+-----+\n",
      "only showing top 20 rows\n",
      "\n"
     ]
    }
   ],
   "source": [
    "#Show id, bikes,slots\n",
    "\n",
    "bicing.select(bicing['id'], bicing['bikes'], bicing['slots']).show()"
   ]
  },
  {
   "cell_type": "code",
   "execution_count": 8,
   "metadata": {},
   "outputs": [],
   "source": [
    "# Create a temporary view of dataframe\n",
    "bicing.createOrReplaceTempView(\"stations\")"
   ]
  },
  {
   "cell_type": "code",
   "execution_count": 9,
   "metadata": {
    "scrolled": true
   },
   "outputs": [
    {
     "name": "stdout",
     "output_type": "stream",
     "text": [
      "+---+-----+-----+\n",
      "| id|bikes|slots|\n",
      "+---+-----+-----+\n",
      "|  1|    1|   21|\n",
      "|  2|    2|   24|\n",
      "|  3|   15|   10|\n",
      "|  4|    9|   10|\n",
      "|  5|    2|   36|\n",
      "|  6|    7|   31|\n",
      "|  7|    4|   20|\n",
      "|  8|    2|   25|\n",
      "|  9|    4|   13|\n",
      "| 10|    2|   28|\n",
      "| 11|   17|    4|\n",
      "| 12|   29|    1|\n",
      "| 13|   30|    3|\n",
      "| 14|    2|   19|\n",
      "| 15|    3|   16|\n",
      "| 16|    3|   18|\n",
      "| 17|    3|   18|\n",
      "| 18|   22|   10|\n",
      "| 19|   10|   18|\n",
      "| 20|    6|   13|\n",
      "+---+-----+-----+\n",
      "only showing top 20 rows\n",
      "\n"
     ]
    }
   ],
   "source": [
    "sqlcontext.sql(\"select id, bikes, slots from stations\").show()"
   ]
  },
  {
   "cell_type": "code",
   "execution_count": 10,
   "metadata": {},
   "outputs": [
    {
     "name": "stdout",
     "output_type": "stream",
     "text": [
      "+--------+\n",
      "|count(1)|\n",
      "+--------+\n",
      "|     419|\n",
      "+--------+\n",
      "\n"
     ]
    }
   ],
   "source": [
    "#Count Mechanical bikes\n",
    "sqlcontext.sql(\"select count(*) from stations where type='BIKE'\").show()"
   ]
  },
  {
   "cell_type": "code",
   "execution_count": 22,
   "metadata": {},
   "outputs": [
    {
     "name": "stdout",
     "output_type": "stream",
     "text": [
      "+-------------+-----+\n",
      "|         type|total|\n",
      "+-------------+-----+\n",
      "|BIKE-ELECTRIC|   46|\n",
      "|         BIKE|  419|\n",
      "+-------------+-----+\n",
      "\n"
     ]
    }
   ],
   "source": [
    "bar= sqlcontext.sql(\"select type, count(*) as total from stations group by type\")\n",
    "bar.show()"
   ]
  },
  {
   "cell_type": "code",
   "execution_count": 28,
   "metadata": {},
   "outputs": [],
   "source": [
    "import plotly.plotly as py\n",
    "import plotly.graph_objs as go\n",
    "import pandas as pd\n",
    "from IPython.display import display\n",
    "import matplotlib\n",
    "import matplotlib.pyplot as plt"
   ]
  },
  {
   "cell_type": "code",
   "execution_count": 35,
   "metadata": {},
   "outputs": [
    {
     "data": {
      "text/plain": [
       "<matplotlib.axes._subplots.AxesSubplot at 0x1567b577a20>"
      ]
     },
     "execution_count": 35,
     "metadata": {},
     "output_type": "execute_result"
    },
    {
     "data": {
      "image/png": "[encoded data removed]",
      "text/plain": [
       "<Figure size 432x288 with 1 Axes>"
      ]
     },
     "metadata": {},
     "output_type": "display_data"
    }
   ],
   "source": [
    "df1=bar.toPandas()\n",
    "df1.plot(kind='bar',x='type',y='total',colormap='Blues_r')"
   ]
  },
  {
   "cell_type": "code",
   "execution_count": 32,
   "metadata": {},
   "outputs": [
    {
     "name": "stdout",
     "output_type": "stream",
     "text": [
      "+-------------+---------+\n",
      "|         type|available|\n",
      "+-------------+---------+\n",
      "|BIKE-ELECTRIC|       42|\n",
      "|         BIKE|      418|\n",
      "+-------------+---------+\n",
      "\n"
     ]
    }
   ],
   "source": [
    "bike_slot= sqlcontext.sql(\"select type,count(slots) as available from stations where status='OPN' group by type\")\n",
    "bike_slot.show()"
   ]
  },
  {
   "cell_type": "code",
   "execution_count": 36,
   "metadata": {},
   "outputs": [
    {
     "data": {
      "text/plain": [
       "<matplotlib.axes._subplots.AxesSubplot at 0x1567b5e1a90>"
      ]
     },
     "execution_count": 36,
     "metadata": {},
     "output_type": "execute_result"
    },
    {
     "data": {
      "image/png": "[encoded data removed]",
      "text/plain": [
       "<Figure size 432x288 with 1 Axes>"
      ]
     },
     "metadata": {},
     "output_type": "display_data"
    }
   ],
   "source": [
    "df2= bike_slot.toPandas()\n",
    "df2.plot(kind='bar',x='type',y='available',colormap='Greens_r')"
   ]
  },
  {
   "cell_type": "code",
   "execution_count": 38,
   "metadata": {
    "scrolled": true
   },
   "outputs": [
    {
     "name": "stdout",
     "output_type": "stream",
     "text": [
      "+------------+\n",
      "|count(bikes)|\n",
      "+------------+\n",
      "|           1|\n",
      "+------------+\n",
      "\n"
     ]
    }
   ],
   "source": [
    "# bikes available at the station with id 1\n",
    "sqlcontext.sql(\"select count(bikes) from stations where id='1'\").show()"
   ]
  }
 ],
 "metadata": {
  "kernelspec": {
   "display_name": "Python 3",
   "language": "python",
   "name": "python3"
  },
  "language_info": {
   "codemirror_mode": {
    "name": "ipython",
    "version": 3
   },
   "file_extension": ".py",
   "mimetype": "text/x-python",
   "name": "python",
   "nbconvert_exporter": "python",
   "pygments_lexer": "ipython3",
   "version": "3.6.5"
  }
 },
 "nbformat": 4,
 "nbformat_minor": 2
}
